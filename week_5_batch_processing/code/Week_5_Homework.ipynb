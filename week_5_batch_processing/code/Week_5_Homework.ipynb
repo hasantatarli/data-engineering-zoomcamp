{
 "cells": [
  {
   "cell_type": "code",
   "execution_count": null,
   "id": "85d06a07",
   "metadata": {},
   "outputs": [],
   "source": [
    "spark.version"
   ]
  },
  {
   "cell_type": "markdown",
   "id": "4f6c7451",
   "metadata": {},
   "source": [
    "Question 2 - What's the size of the folder with results (in MB)?"
   ]
  },
  {
   "cell_type": "code",
   "execution_count": 48,
   "id": "3fa9bced",
   "metadata": {},
   "outputs": [],
   "source": [
    "import pyspark\n",
    "from pyspark.sql import SparkSession"
   ]
  },
  {
   "cell_type": "code",
   "execution_count": 49,
   "id": "765325bf",
   "metadata": {},
   "outputs": [
    {
     "name": "stderr",
     "output_type": "stream",
     "text": [
      "[Stage 13:======================================>                   (4 + 2) / 6]\r"
     ]
    }
   ],
   "source": [
    "spark = SparkSession.builder \\\n",
    "        .master(\"local[*]\") \\\n",
    "        .appName('test') \\\n",
    "        .getOrCreate()"
   ]
  },
  {
   "cell_type": "code",
   "execution_count": 3,
   "id": "0cc6b489",
   "metadata": {
    "scrolled": true
   },
   "outputs": [
    {
     "name": "stdout",
     "output_type": "stream",
     "text": [
      "--2022-03-01 14:47:58--  https://nyc-tlc.s3.amazonaws.com/trip+data/fhvhv_tripdata_2021-02.csv\n",
      "Resolving nyc-tlc.s3.amazonaws.com (nyc-tlc.s3.amazonaws.com)... 52.217.77.172\n",
      "Connecting to nyc-tlc.s3.amazonaws.com (nyc-tlc.s3.amazonaws.com)|52.217.77.172|:443... connected.\n",
      "HTTP request sent, awaiting response... 200 OK\n",
      "Length: 733822658 (700M) [text/csv]\n",
      "Saving to: ‘fhvhv_tripdata_2021-02.csv.1’\n",
      "\n",
      "2021-02.csv.1        22%[===>                ] 160.15M  28.4MB/s    eta 21s    ^C\n"
     ]
    }
   ],
   "source": [
    "!wget https://nyc-tlc.s3.amazonaws.com/trip+data/fhvhv_tripdata_2021-02.csv"
   ]
  },
  {
   "cell_type": "code",
   "execution_count": 3,
   "id": "702acab9",
   "metadata": {},
   "outputs": [
    {
     "name": "stderr",
     "output_type": "stream",
     "text": [
      "\r\n",
      "[Stage 0:>                                                          (0 + 1) / 1]\r\n",
      "\r\n",
      "                                                                                \r"
     ]
    }
   ],
   "source": [
    "df = spark.read \\\n",
    "    .option('header','true') \\\n",
    "    .csv('fhvhv_tripdata_2021-02.csv')"
   ]
  },
  {
   "cell_type": "code",
   "execution_count": null,
   "id": "c7cfdbd5",
   "metadata": {},
   "outputs": [],
   "source": [
    "df \\\n",
    "    .repartition(24) \\\n",
    "    .write.parquet('data/pq/fhvhv')"
   ]
  },
  {
   "cell_type": "markdown",
   "id": "037b3945",
   "metadata": {},
   "source": [
    "Question 3 - Count records"
   ]
  },
  {
   "cell_type": "code",
   "execution_count": 4,
   "id": "4e0babeb",
   "metadata": {},
   "outputs": [],
   "source": [
    "df_fhvhv = spark.read.parquet('data/pq/fhvhv/')"
   ]
  },
  {
   "cell_type": "code",
   "execution_count": 5,
   "id": "924b55e8",
   "metadata": {},
   "outputs": [
    {
     "name": "stdout",
     "output_type": "stream",
     "text": [
      "root\n",
      " |-- hvfhs_license_num: string (nullable = true)\n",
      " |-- dispatching_base_num: string (nullable = true)\n",
      " |-- pickup_datetime: string (nullable = true)\n",
      " |-- dropoff_datetime: string (nullable = true)\n",
      " |-- PULocationID: string (nullable = true)\n",
      " |-- DOLocationID: string (nullable = true)\n",
      " |-- SR_Flag: string (nullable = true)\n",
      "\n"
     ]
    }
   ],
   "source": [
    "df_fhvhv.printSchema()"
   ]
  },
  {
   "cell_type": "code",
   "execution_count": 50,
   "id": "e5cc6dfe",
   "metadata": {},
   "outputs": [],
   "source": [
    "from pyspark.sql import types"
   ]
  },
  {
   "cell_type": "code",
   "execution_count": 51,
   "id": "82f40dae",
   "metadata": {},
   "outputs": [],
   "source": [
    "fhvhv_schema = types.StructType([\n",
    "    types.StructField(\"hvfhs_license_num\", types.StringType(), True),\n",
    "    types.StructField(\"dispatching_base_num\", types.StringType(), True),\n",
    "    types.StructField(\"pickup_datetime\", types.TimestampType(), True),\n",
    "\ttypes.StructField(\"dropoff_datetime\", types.TimestampType(), True),\n",
    "    types.StructField(\"PULocationID\", types.IntegerType(), True),\n",
    "    types.StructField(\"DOLocationID\", types.IntegerType(), True),\n",
    "    types.StructField(\"SR_Flag\", types.StringType(), True)\n",
    "])"
   ]
  },
  {
   "cell_type": "code",
   "execution_count": 131,
   "id": "e4d3f0de",
   "metadata": {},
   "outputs": [],
   "source": [
    "df_fhvhv = spark.read \\\n",
    "    .option('header','true') \\\n",
    "    .schema(fhvhv_schema) \\\n",
    "    .csv('fhvhv_tripdata_2021-02.csv')"
   ]
  },
  {
   "cell_type": "code",
   "execution_count": 132,
   "id": "c1372987",
   "metadata": {},
   "outputs": [
    {
     "name": "stdout",
     "output_type": "stream",
     "text": [
      "root\n",
      " |-- hvfhs_license_num: string (nullable = true)\n",
      " |-- dispatching_base_num: string (nullable = true)\n",
      " |-- pickup_datetime: timestamp (nullable = true)\n",
      " |-- dropoff_datetime: timestamp (nullable = true)\n",
      " |-- PULocationID: integer (nullable = true)\n",
      " |-- DOLocationID: integer (nullable = true)\n",
      " |-- SR_Flag: string (nullable = true)\n",
      "\n"
     ]
    }
   ],
   "source": [
    "df_fhvhv.printSchema()"
   ]
  },
  {
   "cell_type": "code",
   "execution_count": 63,
   "id": "4352a69e",
   "metadata": {},
   "outputs": [],
   "source": [
    "df_fhvhv.registerTempTable('fhvhv_data_sql')"
   ]
  },
  {
   "cell_type": "code",
   "execution_count": 12,
   "id": "2dba9e11",
   "metadata": {},
   "outputs": [],
   "source": [
    "df_result = spark.sql(\"\"\"\n",
    "select \n",
    "    count(0) \n",
    "from \n",
    "    fhvhv_data_sql\n",
    "where pickup_datetime >= '2021-02-15' and pickup_datetime < '2021-02-16'\n",
    "\"\"\")"
   ]
  },
  {
   "cell_type": "code",
   "execution_count": 13,
   "id": "7165c7c4",
   "metadata": {},
   "outputs": [
    {
     "name": "stderr",
     "output_type": "stream",
     "text": [
      "[Stage 3:=================================================>         (5 + 1) / 6]\r"
     ]
    },
    {
     "name": "stdout",
     "output_type": "stream",
     "text": [
      "+--------+\n",
      "|count(0)|\n",
      "+--------+\n",
      "|  367170|\n",
      "+--------+\n",
      "\n"
     ]
    },
    {
     "name": "stderr",
     "output_type": "stream",
     "text": [
      "\r\n",
      "                                                                                \r"
     ]
    }
   ],
   "source": [
    "df_result.show()"
   ]
  },
  {
   "cell_type": "markdown",
   "id": "31fa84d7",
   "metadata": {},
   "source": [
    "Question 4 -Longest trip for each day"
   ]
  },
  {
   "cell_type": "code",
   "execution_count": 53,
   "id": "f74ee500",
   "metadata": {},
   "outputs": [],
   "source": [
    "from pyspark.sql import functions as F"
   ]
  },
  {
   "cell_type": "code",
   "execution_count": 152,
   "id": "dfc6632e",
   "metadata": {},
   "outputs": [],
   "source": [
    "dr_result_duration = df_fhvhv \\\n",
    "    .withColumn('pickup_datetime',F.to_timestamp('pickup_datetime')) \\\n",
    "    .withColumn('dropoff_datetime',F.to_timestamp('dropoff_datetime')) \\\n",
    "    .withColumn('DiffInMinutes',(F.unix_timestamp(\"dropoff_datetime\") - F.unix_timestamp('pickup_datetime'))/60)\n",
    " "
   ]
  },
  {
   "cell_type": "code",
   "execution_count": 154,
   "id": "5a2ddc37",
   "metadata": {},
   "outputs": [
    {
     "name": "stderr",
     "output_type": "stream",
     "text": [
      "[Stage 150:===============================================>         (5 + 1) / 6]\r"
     ]
    },
    {
     "name": "stdout",
     "output_type": "stream",
     "text": [
      "+-------------------+\n",
      "|    pickup_datetime|\n",
      "+-------------------+\n",
      "|2021-02-11 13:40:44|\n",
      "+-------------------+\n",
      "\n"
     ]
    },
    {
     "name": "stderr",
     "output_type": "stream",
     "text": [
      "\r\n",
      "                                                                                \r"
     ]
    }
   ],
   "source": [
    "dr_result_duration.select(\"pickup_datetime\") \\\n",
    "    .orderBy(col(\"DiffInMinutes\").desc()).limit(1).show()"
   ]
  },
  {
   "cell_type": "markdown",
   "id": "e6df34ef",
   "metadata": {},
   "source": [
    "Question 5 - Most frequent dispatching_base_num"
   ]
  },
  {
   "cell_type": "code",
   "execution_count": 61,
   "id": "48b0f0a8",
   "metadata": {},
   "outputs": [],
   "source": [
    "df_result = spark.sql(\"\"\"\n",
    "select \n",
    "    dispatching_base_num,\n",
    "    count(0) as Num\n",
    "from \n",
    "    fhvhv_data_sql\n",
    "group by\n",
    "    dispatching_base_num\n",
    "Order by \n",
    "    Num desc\n",
    "\"\"\")"
   ]
  },
  {
   "cell_type": "code",
   "execution_count": 62,
   "id": "693883a1",
   "metadata": {},
   "outputs": [
    {
     "name": "stderr",
     "output_type": "stream",
     "text": [
      "[Stage 27:=================================================>    (185 + 4) / 200]\r"
     ]
    },
    {
     "name": "stdout",
     "output_type": "stream",
     "text": [
      "+--------------------+-------+\n",
      "|dispatching_base_num|    Num|\n",
      "+--------------------+-------+\n",
      "|              B02510|3233664|\n",
      "|              B02764| 965568|\n",
      "|              B02872| 882689|\n",
      "|              B02875| 685390|\n",
      "|              B02765| 559768|\n",
      "|              B02869| 429720|\n",
      "|              B02887| 322331|\n",
      "|              B02871| 312364|\n",
      "|              B02864| 311603|\n",
      "|              B02866| 311089|\n",
      "|              B02878| 305185|\n",
      "|              B02682| 303255|\n",
      "|              B02617| 274510|\n",
      "|              B02883| 251617|\n",
      "|              B02884| 244963|\n",
      "|              B02882| 232173|\n",
      "|              B02876| 215693|\n",
      "|              B02879| 210137|\n",
      "|              B02867| 200530|\n",
      "|              B02877| 198938|\n",
      "+--------------------+-------+\n",
      "only showing top 20 rows\n",
      "\n"
     ]
    },
    {
     "name": "stderr",
     "output_type": "stream",
     "text": [
      "\r\n",
      "                                                                                \r"
     ]
    }
   ],
   "source": [
    "df_result.show()"
   ]
  },
  {
   "cell_type": "markdown",
   "id": "33323053",
   "metadata": {},
   "source": [
    "Question 6 - Most common locations pair"
   ]
  },
  {
   "cell_type": "code",
   "execution_count": 64,
   "id": "4b16d9a0",
   "metadata": {},
   "outputs": [],
   "source": [
    "df_zones = spark.read.parquet('zones/')"
   ]
  },
  {
   "cell_type": "code",
   "execution_count": 143,
   "id": "8f7970fb",
   "metadata": {},
   "outputs": [],
   "source": [
    "df_pickup_zones = df_zones \\\n",
    "        .withColumnRenamed('Zone','PickupZone')\n",
    "\n",
    "df_dropoff_zones = df_zones \\\n",
    "        .withColumnRenamed('Zone','DropoffZone')"
   ]
  },
  {
   "cell_type": "code",
   "execution_count": 144,
   "id": "9707cea4",
   "metadata": {},
   "outputs": [],
   "source": [
    "df_join_data=df_fhvhv.join(df_pickup_zones,df_fhvhv.PULocationID == df_pickup_zones.LocationID) \\\n",
    "    .drop('LocationID','Borough','service_zone')"
   ]
  },
  {
   "cell_type": "code",
   "execution_count": 145,
   "id": "5ffb579f",
   "metadata": {},
   "outputs": [],
   "source": [
    "df_join_data_new = df_join_data.join(df_dropoff_zones,df_join_data.DOLocationID == df_dropoff_zones.LocationID) \\\n",
    "    .drop('LocationID','Borough','service_zone')"
   ]
  },
  {
   "cell_type": "code",
   "execution_count": 147,
   "id": "6af5319a",
   "metadata": {},
   "outputs": [],
   "source": [
    "df_join_data_new.registerTempTable('df_join_data_sql')"
   ]
  },
  {
   "cell_type": "code",
   "execution_count": 148,
   "id": "6207c47d",
   "metadata": {},
   "outputs": [],
   "source": [
    "df_join_result = spark.sql(\"\"\"\n",
    "select \n",
    "    CONCAT(nvl(PickupZone,'Unknown'),' / ',nvl(DropoffZone,'Unknown')) as ZoneMatch,\n",
    "    Count(0) as Num\n",
    "from \n",
    "    df_join_data_sql\n",
    "group by\n",
    "    CONCAT(nvl(PickupZone,'Unknown'),' / ',nvl(DropoffZone,'Unknown'))\n",
    "Order by \n",
    "    Num desc\n",
    "limit 5\n",
    "\"\"\")"
   ]
  },
  {
   "cell_type": "code",
   "execution_count": 149,
   "id": "8817a5a0",
   "metadata": {},
   "outputs": [
    {
     "name": "stderr",
     "output_type": "stream",
     "text": [
      "[Stage 146:===============================================>     (178 + 4) / 200]\r"
     ]
    },
    {
     "name": "stdout",
     "output_type": "stream",
     "text": [
      "+--------------------+-----+\n",
      "|           ZoneMatch|  Num|\n",
      "+--------------------+-----+\n",
      "|East New York / E...|45041|\n",
      "|Borough Park / Bo...|37329|\n",
      "| Canarsie / Canarsie|28026|\n",
      "|Crown Heights Nor...|25976|\n",
      "|Bay Ridge / Bay R...|17934|\n",
      "+--------------------+-----+\n",
      "\n"
     ]
    },
    {
     "name": "stderr",
     "output_type": "stream",
     "text": [
      "\r\n",
      "[Stage 146:===================================================> (193 + 4) / 200]\r\n",
      "\r\n",
      "                                                                                \r"
     ]
    }
   ],
   "source": [
    "df_join_result.show()"
   ]
  }
 ],
 "metadata": {
  "kernelspec": {
   "display_name": "Python 3 (ipykernel)",
   "language": "python",
   "name": "python3"
  },
  "language_info": {
   "codemirror_mode": {
    "name": "ipython",
    "version": 3
   },
   "file_extension": ".py",
   "mimetype": "text/x-python",
   "name": "python",
   "nbconvert_exporter": "python",
   "pygments_lexer": "ipython3",
   "version": "3.9.7"
  }
 },
 "nbformat": 4,
 "nbformat_minor": 5
}
