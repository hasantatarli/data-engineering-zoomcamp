{
 "cells": [
  {
   "cell_type": "code",
   "execution_count": 1,
   "id": "2184e76f",
   "metadata": {},
   "outputs": [
    {
     "name": "stderr",
     "output_type": "stream",
     "text": [
      "WARNING: An illegal reflective access operation has occurred\n",
      "WARNING: Illegal reflective access by org.apache.spark.unsafe.Platform (file:/home/TTL/spark/spark-3.0.3-bin-hadoop3.2/jars/spark-unsafe_2.12-3.0.3.jar) to constructor java.nio.DirectByteBuffer(long,int)\n",
      "WARNING: Please consider reporting this to the maintainers of org.apache.spark.unsafe.Platform\n",
      "WARNING: Use --illegal-access=warn to enable warnings of further illegal reflective access operations\n",
      "WARNING: All illegal access operations will be denied in a future release\n",
      "22/03/01 13:01:58 WARN NativeCodeLoader: Unable to load native-hadoop library for your platform... using builtin-java classes where applicable\n",
      "Using Spark's default log4j profile: org/apache/spark/log4j-defaults.properties\n",
      "Setting default log level to \"WARN\".\n",
      "To adjust logging level use sc.setLogLevel(newLevel). For SparkR, use setLogLevel(newLevel).\n"
     ]
    }
   ],
   "source": [
    "import pyspark\n",
    "from pyspark.sql import SparkSession\n",
    "\n",
    "spark = SparkSession.builder \\\n",
    "        .master(\"local[*]\") \\\n",
    "        .appName('test') \\\n",
    "        .getOrCreate()"
   ]
  },
  {
   "cell_type": "code",
   "execution_count": 2,
   "id": "f7507619",
   "metadata": {},
   "outputs": [
    {
     "name": "stderr",
     "output_type": "stream",
     "text": [
      "                                                                                \r"
     ]
    }
   ],
   "source": [
    "df_green = spark.read.parquet(\"data/pq/green/*/*\")"
   ]
  },
  {
   "cell_type": "code",
   "execution_count": 3,
   "id": "bbd2a425",
   "metadata": {},
   "outputs": [],
   "source": [
    "df_green.registerTempTable('green')"
   ]
  },
  {
   "cell_type": "code",
   "execution_count": 4,
   "id": "fa8f8888",
   "metadata": {},
   "outputs": [
    {
     "data": {
      "text/plain": [
       "['VendorID',\n",
       " 'lpep_pickup_datetime',\n",
       " 'lpep_dropoff_datetime',\n",
       " 'store_and_fwd_flag',\n",
       " 'RatecodeID',\n",
       " 'PULocationID',\n",
       " 'DOLocationID',\n",
       " 'passenger_count',\n",
       " 'trip_distance',\n",
       " 'fare_amount',\n",
       " 'extra',\n",
       " 'mta_tax',\n",
       " 'tip_amount',\n",
       " 'tolls_amount',\n",
       " 'ehail_fee',\n",
       " 'improvement_surcharge',\n",
       " 'total_amount',\n",
       " 'payment_type',\n",
       " 'trip_type',\n",
       " 'congestion_surcharge']"
      ]
     },
     "execution_count": 4,
     "metadata": {},
     "output_type": "execute_result"
    }
   ],
   "source": [
    "df_green.columns"
   ]
  },
  {
   "cell_type": "code",
   "execution_count": 5,
   "id": "24840a6e",
   "metadata": {},
   "outputs": [],
   "source": [
    "df_green_revenue = spark.sql(\"\"\"\n",
    "Select \n",
    "    date_trunc('hour',lpep_pickup_datetime) as hour,\n",
    "    PULocationID as zone,\n",
    "    \n",
    "    SUM(total_amount) as amount,\n",
    "    Count(1) as number_records\n",
    "from \n",
    "    green\n",
    "WHERE \n",
    "    lpep_pickup_datetime > '2020-01-01'\n",
    "GROUP BY \n",
    "    1,2\n",
    "\"\"\")"
   ]
  },
  {
   "cell_type": "code",
   "execution_count": 6,
   "id": "87560063",
   "metadata": {},
   "outputs": [
    {
     "name": "stderr",
     "output_type": "stream",
     "text": [
      "                                                                                \r"
     ]
    }
   ],
   "source": [
    "df_green_revenue \\\n",
    "    .repartition(20) \\\n",
    "    .write.parquet('data/report/revenue/green',mode='overwrite');"
   ]
  },
  {
   "cell_type": "code",
   "execution_count": 7,
   "id": "262b96db",
   "metadata": {},
   "outputs": [],
   "source": [
    "df_yellow = spark.read.parquet(\"data/pq/yellow/*/*\")"
   ]
  },
  {
   "cell_type": "code",
   "execution_count": 8,
   "id": "7cf67ae4",
   "metadata": {},
   "outputs": [],
   "source": [
    "df_yellow.registerTempTable('yellow')"
   ]
  },
  {
   "cell_type": "code",
   "execution_count": 9,
   "id": "62172ba3",
   "metadata": {},
   "outputs": [],
   "source": [
    "df_yellow_revenue = spark.sql(\"\"\"\n",
    "Select \n",
    "    date_trunc('hour',tpep_pickup_datetime) as hour,\n",
    "    PULocationID as zone,\n",
    "    \n",
    "    SUM(total_amount) as amount,\n",
    "    Count(1) as number_records\n",
    "from \n",
    "    yellow\n",
    "WHERE \n",
    "    tpep_pickup_datetime > '2020-01-01'\n",
    "GROUP BY \n",
    "    1,2\n",
    "\"\"\")"
   ]
  },
  {
   "cell_type": "code",
   "execution_count": 10,
   "id": "d2abd4eb",
   "metadata": {},
   "outputs": [
    {
     "name": "stderr",
     "output_type": "stream",
     "text": [
      "                                                                                \r"
     ]
    }
   ],
   "source": [
    "df_yellow_revenue \\\n",
    "    .repartition(20) \\\n",
    "    .write.parquet('data/report/revenue/yellow',mode='overwrite')"
   ]
  },
  {
   "cell_type": "code",
   "execution_count": 19,
   "id": "3c24e545",
   "metadata": {},
   "outputs": [],
   "source": [
    "df_green_revenue_tmp = df_green_revenue \\\n",
    "    .withColumnRenamed('amount','green_amount') \\\n",
    "    .withColumnRenamed('number_records','green_number_records') \n",
    "\n",
    "df_yellow_revenue_tmp = df_yellow_revenue \\\n",
    "    .withColumnRenamed('amount','yellow_amount') \\\n",
    "    .withColumnRenamed('number_records','yellow_number_records') \n"
   ]
  },
  {
   "cell_type": "code",
   "execution_count": 20,
   "id": "d530bdbf",
   "metadata": {},
   "outputs": [],
   "source": [
    "df_join = df_green_revenue_tmp.join(df_yellow_revenue_tmp, on=['hour','zone'],how='outer')"
   ]
  },
  {
   "cell_type": "code",
   "execution_count": 21,
   "id": "b83abf8e",
   "metadata": {},
   "outputs": [
    {
     "name": "stderr",
     "output_type": "stream",
     "text": [
      "                                                                                \r"
     ]
    }
   ],
   "source": [
    "df_join.write.parquet('data/report/revenue/total')"
   ]
  },
  {
   "cell_type": "code",
   "execution_count": 22,
   "id": "f14d2525",
   "metadata": {},
   "outputs": [],
   "source": [
    "df_join = spark.read.parquet('data/report/revenue/total')"
   ]
  },
  {
   "cell_type": "code",
   "execution_count": 25,
   "id": "fb68fe46",
   "metadata": {},
   "outputs": [],
   "source": [
    "df_zones = spark.read.parquet('zones/')"
   ]
  },
  {
   "cell_type": "code",
   "execution_count": 27,
   "id": "85ad4d39",
   "metadata": {},
   "outputs": [],
   "source": [
    "df_result = df_join.join(df_zones,df_join.zone == df_zones.LocationID)"
   ]
  },
  {
   "cell_type": "code",
   "execution_count": 30,
   "id": "d4131d3c",
   "metadata": {},
   "outputs": [
    {
     "name": "stderr",
     "output_type": "stream",
     "text": [
      "                                                                                \r"
     ]
    }
   ],
   "source": [
    "df_result.drop('LocationID','zone').write.parquet('tmp/revenue-zones')"
   ]
  },
  {
   "cell_type": "code",
   "execution_count": 23,
   "id": "30e17f40",
   "metadata": {},
   "outputs": [
    {
     "name": "stdout",
     "output_type": "stream",
     "text": [
      "+-------------------+----+------------+--------------------+------------------+---------------------+\n",
      "|               hour|zone|green_amount|green_number_records|     yellow_amount|yellow_number_records|\n",
      "+-------------------+----+------------+--------------------+------------------+---------------------+\n",
      "|2020-01-01 02:00:00| 163|        null|                null| 4672.539999999999|                  249|\n",
      "|2020-01-01 03:00:00|  66|       65.66|                   4|             81.05|                    3|\n",
      "|2020-01-01 03:00:00| 114|        null|                null|6185.9600000000055|                  310|\n",
      "|2020-01-01 05:00:00| 146|        null|                null|344.78000000000003|                    9|\n",
      "|2020-01-01 08:00:00| 136|        null|                null|             132.3|                    2|\n",
      "|2020-01-01 10:00:00| 200|        null|                null|              38.6|                    1|\n",
      "|2020-01-01 12:00:00|  37|        null|                null|               7.8|                    1|\n",
      "|2020-01-01 12:00:00| 123|       28.86|                   2|              null|                 null|\n",
      "|2020-01-01 13:00:00|  80|       53.82|                   4|             98.05|                    3|\n",
      "|2020-01-01 13:00:00| 185|        null|                null|             56.92|                    1|\n",
      "|2020-01-01 14:00:00|  68|        null|                null| 2970.109999999997|                  191|\n",
      "|2020-01-01 14:00:00| 140|        null|                null|1593.4399999999996|                  103|\n",
      "|2020-01-01 14:00:00| 168|        21.3|                   1|              null|                 null|\n",
      "|2020-01-01 14:00:00| 248|        18.3|                   1|              60.6|                    1|\n",
      "|2020-01-01 15:00:00| 115|       55.04|                   1|              null|                 null|\n",
      "|2020-01-01 20:00:00|  67|        null|                null|114.89999999999999|                    3|\n",
      "|2020-01-02 01:00:00| 231|        null|                null|205.56000000000006|                   13|\n",
      "|2020-01-02 02:00:00|  75|         9.8|                   1|            153.38|                    8|\n",
      "|2020-01-02 02:00:00| 142|        null|                null|            210.56|                   10|\n",
      "|2020-01-02 08:00:00| 130|      392.66|                  16|258.46000000000004|                    4|\n",
      "+-------------------+----+------------+--------------------+------------------+---------------------+\n",
      "only showing top 20 rows\n",
      "\n"
     ]
    }
   ],
   "source": [
    "df_join.show()"
   ]
  },
  {
   "cell_type": "code",
   "execution_count": null,
   "id": "9f48edc9",
   "metadata": {},
   "outputs": [],
   "source": []
  }
 ],
 "metadata": {
  "kernelspec": {
   "display_name": "Python 3 (ipykernel)",
   "language": "python",
   "name": "python3"
  },
  "language_info": {
   "codemirror_mode": {
    "name": "ipython",
    "version": 3
   },
   "file_extension": ".py",
   "mimetype": "text/x-python",
   "name": "python",
   "nbconvert_exporter": "python",
   "pygments_lexer": "ipython3",
   "version": "3.9.7"
  }
 },
 "nbformat": 4,
 "nbformat_minor": 5
}
